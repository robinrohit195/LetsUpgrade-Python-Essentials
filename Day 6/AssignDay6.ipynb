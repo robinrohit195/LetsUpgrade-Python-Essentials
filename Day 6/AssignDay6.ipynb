{
  "nbformat": 4,
  "nbformat_minor": 0,
  "metadata": {
    "colab": {
      "name": "AssignDay6.ipynb",
      "provenance": [],
      "collapsed_sections": []
    },
    "kernelspec": {
      "name": "python3",
      "display_name": "Python 3"
    }
  },
  "cells": [
    {
      "cell_type": "code",
      "metadata": {
        "id": "TNTaOcniQ9Mi",
        "colab_type": "code",
        "colab": {
          "base_uri": "https://localhost:8080/",
          "height": 51
        },
        "outputId": "7507b28c-df87-4bd8-be64-1eeffcd707d0"
      },
      "source": [
        "List1 = [1,2,3,4,5,7,8]\n",
        "List2 = [\"a\", \"b\", \"c\", \"d\", \"e\",\"f\", \"g\", \"h\"]\n",
        "res_dct = {List1[i]: List2[i + 1] for i in range(0, len(List1))} \n",
        "print(\"List to Dictionary using List Comprehension\")\n",
        "print(res_dct)"
      ],
      "execution_count": 9,
      "outputs": [
        {
          "output_type": "stream",
          "text": [
            "List to Dictionary using List Comprehension\n",
            "{1: 'b', 2: 'c', 3: 'd', 4: 'e', 5: 'f', 7: 'g', 8: 'h'}\n"
          ],
          "name": "stdout"
        }
      ]
    }
  ]
}