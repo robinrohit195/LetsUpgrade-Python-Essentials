{
 "cells": [
  {
   "cell_type": "markdown",
   "metadata": {},
   "source": [
    "# Assignment - Day 3"
   ]
  },
  {
   "cell_type": "markdown",
   "metadata": {},
   "source": [
    "# Question 1 :\n",
    "Find sum of n numbers with help of while loop."
   ]
  },
  {
   "cell_type": "code",
   "execution_count": 4,
   "metadata": {},
   "outputs": [
    {
     "name": "stdout",
     "output_type": "stream",
     "text": [
      "Enter a number\n",
      "5\n",
      "The sum of 5 number is 20\n"
     ]
    }
   ],
   "source": [
    "# Sum of n numbers with while loop\n",
    "i = 1\n",
    "sumn = 0\n",
    "print(\"Enter a number\")\n",
    "num = int(input())\n",
    "while (i<num):\n",
    "    sumn = sumn + num\n",
    "    i = i + 1\n",
    "print('The sum of {0} number is {1}'.format(num,sumn))"
   ]
  },
  {
   "cell_type": "code",
   "execution_count": 3,
   "metadata": {},
   "outputs": [
    {
     "name": "stdout",
     "output_type": "stream",
     "text": [
      "Enter how many number : 5\n",
      "Enter the numbers : 34\n",
      "Enter the numbers : 67\n",
      "Enter the numbers : 89\n",
      "Enter the numbers : 45\n",
      "Enter the numbers : 34\n",
      "The sum of 5 number is 269\n"
     ]
    }
   ],
   "source": [
    "# Sum of n numbers with while loop\n",
    "ele = 1\n",
    "sumn = 0\n",
    "inp = 0\n",
    "numlist = []\n",
    "num = int(input('Enter how many number : '))\n",
    "while(ele<=num):\n",
    "    inp = int(input('Enter the numbers : '))\n",
    "    numlist.append(inp)\n",
    "    ele += 1\n",
    "print('The sum of {0} number is {1}'.format(num,sum(numlist)))"
   ]
  },
  {
   "cell_type": "markdown",
   "metadata": {},
   "source": [
    "# Question 2 :\n",
    "Take an integer and find whether the number is prime or not."
   ]
  },
  {
   "cell_type": "code",
   "execution_count": 2,
   "metadata": {},
   "outputs": [
    {
     "name": "stdout",
     "output_type": "stream",
     "text": [
      "Enter the integer number N : 88\n",
      "88 is not a prime number\n"
     ]
    }
   ],
   "source": [
    "n = int(input('Enter the integer number N : '))\n",
    "\n",
    "for i in range(2,int(n**0.5)+1): \n",
    "    if n % i == 0:\n",
    "        print(n,'is not a prime number')\n",
    "        break\n",
    "else:\n",
    "    print(n,'is a prime number') "
   ]
  },
  {
   "cell_type": "code",
   "execution_count": 3,
   "metadata": {},
   "outputs": [
    {
     "name": "stdout",
     "output_type": "stream",
     "text": [
      "Enter the integer number N : 67\n",
      "67 is a prime number\n"
     ]
    }
   ],
   "source": [
    "n = int(input('Enter the integer number N : '))\n",
    "\n",
    "for i in range(2,int(n**0.5)+1): \n",
    "    if n % i == 0:\n",
    "        print(n,'is not a prime number')\n",
    "        break\n",
    "else:\n",
    "    print(n,'is a prime number') "
   ]
  },
  {
   "cell_type": "code",
   "execution_count": null,
   "metadata": {},
   "outputs": [],
   "source": []
  }
 ],
 "metadata": {
  "kernelspec": {
   "display_name": "Python 3",
   "language": "python",
   "name": "python3"
  },
  "language_info": {
   "codemirror_mode": {
    "name": "ipython",
    "version": 3
   },
   "file_extension": ".py",
   "mimetype": "text/x-python",
   "name": "python",
   "nbconvert_exporter": "python",
   "pygments_lexer": "ipython3",
   "version": "3.7.6"
  }
 },
 "nbformat": 4,
 "nbformat_minor": 4
}
