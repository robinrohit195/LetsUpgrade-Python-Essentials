{
 "cells": [
  {
   "cell_type": "code",
   "execution_count": 1,
   "metadata": {},
   "outputs": [
    {
     "name": "stdout",
     "output_type": "stream",
     "text": [
      "Enter a String : What we think we become; we are python programmers\n",
      "Enter the Sub String : we\n",
      "The original string is : What we think we become; we are python programmers\n",
      "The substring to find : we\n",
      "The start indices of the substrings are : [5, 14, 25]\n"
     ]
    }
   ],
   "source": [
    "# Using list for loop , if statement + startswith()\n",
    "# What we think we become; we are Python programmer\n",
    "\n",
    "# initializing string  \n",
    "inputStr = input(\"Enter a String : \")\n",
    "# initializing substring \n",
    "inputSubStr = input(\"Enter the Sub String : \")\n",
    "  \n",
    "# printing original string  \n",
    "print(\"The original string is : \" + inputStr) \n",
    "# printing substring  \n",
    "print(\"The substring to find : \" + inputSubStr) \n",
    "\n",
    "# All occurrences of substring in string  \n",
    "result = []\n",
    "for i in range(len(inputStr)):\n",
    "    if inputStr.startswith(inputSubStr, i):\n",
    "        result.append(i);\n",
    "        \n",
    "print(\"The start indices of the substrings are : \" + str(result))"
   ]
  },
  {
   "cell_type": "code",
   "execution_count": 2,
   "metadata": {},
   "outputs": [
    {
     "name": "stdout",
     "output_type": "stream",
     "text": [
      "Enter a String : What we think we become; we are python programmers\n",
      "Enter the Sub String : we\n",
      "The original string is : What we think we become; we are python programmers\n",
      "The substring to find : we\n",
      "The start indices of the substrings are : [5, 14, 25]\n"
     ]
    }
   ],
   "source": [
    "# Using list comprehension + startswith() \n",
    "# What we think we become; we are Python programmer\n",
    "  \n",
    "# initializing string  \n",
    "inputStr = input(\"Enter a String : \")\n",
    "# initializing substring \n",
    "inputSubStr = input(\"Enter the Sub String : \")\n",
    "  \n",
    "# printing original string  \n",
    "print(\"The original string is : \" + inputStr) \n",
    "# printing substring  \n",
    "print(\"The substring to find : \" + inputSubStr) \n",
    "  \n",
    "# All occurrences of substring in string  \n",
    "res = [i for i in range(len(inputStr)) if inputStr.startswith(inputSubStr, i)] \n",
    "  \n",
    "# printing result  \n",
    "print(\"The start indices of the substrings are : \" + str(res)) "
   ]
  },
  {
   "cell_type": "code",
   "execution_count": 4,
   "metadata": {},
   "outputs": [
    {
     "name": "stdout",
     "output_type": "stream",
     "text": [
      "Enter a String : What we think we become; we are python programmer\n",
      "Enter the Sub String : we\n",
      "The original string is : What we think we become; we are python programmer\n",
      "The substring to find : we\n",
      "The start indices of the substrings are : [5, 14, 25]\n"
     ]
    }
   ],
   "source": [
    "# using re.finditer() \n",
    "# What we think we become; we are Python programmer\n",
    "\n",
    "import re\n",
    "# initializing string  \n",
    "inputStr = input(\"Enter a String : \")\n",
    "# initializing substring \n",
    "inputSubStr = input(\"Enter the Sub String : \")\n",
    "\n",
    "# printing original string  \n",
    "print(\"The original string is : \" + inputStr) \n",
    "# printing substring  \n",
    "print(\"The substring to find : \" + inputSubStr) \n",
    "\n",
    "# All occurrences of substring in string  \n",
    "res = [i.start() for i in re.finditer(inputSubStr, inputStr)] \n",
    "\n",
    "# printing result  \n",
    "print(\"The start indices of the substrings are : \" + str(res)) \n",
    "  "
   ]
  },
  {
   "cell_type": "markdown",
   "metadata": {},
   "source": [
    "# Question 2 :\n",
    "Explain using\n",
    "islower()\n",
    "isupper()\n",
    "with different kinds of strings."
   ]
  },
  {
   "cell_type": "markdown",
   "metadata": {},
   "source": [
    "### Python String : islower()"
   ]
  },
  {
   "cell_type": "markdown",
   "metadata": {},
   "source": [
    "The islower() method returns True if all alphabets in a string are lowercase alphabets. If the string contains at least one uppercase alphabet, it returns False.\n",
    "\n",
    "The syntax of islower() is: string.islower()\n",
    "\n",
    "The islower() method doesn't take any parameters.\n",
    "\n",
    "Return Value from islower()\n",
    "\n",
    "The islower() method returns:\n",
    "\n",
    "True if all alphabets that exist in the string are lowercase alphabets.\n",
    "False if the string contains at least one uppercase alphabet."
   ]
  },
  {
   "cell_type": "code",
   "execution_count": 13,
   "metadata": {},
   "outputs": [
    {
     "name": "stdout",
     "output_type": "stream",
     "text": [
      "String : < python is good > contains LOWER case only. Hence it returns True\n",
      "String : < python i$ g00d > contains SPECIAL and NUMERIC. Hence it returns True\n",
      "String : < python is Good > contains UPPER case. Hence it returns False\n",
      "String : < python is good > Eoes not contains UPPER case letters.\n",
      "String : < Python is good > contains UPPER case letters.\n"
     ]
    }
   ],
   "source": [
    "strInput = \"python is good\"\n",
    "print(\"String : <\",strInput ,\">\", \"contains LOWER case only. Hence it returns\" , strInput.islower())\n",
    "\n",
    "strInput = 'python i$ g00d'\n",
    "print(\"String : <\",strInput ,\">\", \"contains SPECIAL and NUMERIC. Hence it returns\" , strInput.islower())\n",
    "\n",
    "strInput = 'python is Good'\n",
    "print(\"String : <\",strInput ,\">\", \"contains UPPER case. Hence it returns\" , strInput.islower())\n",
    "\n",
    "strInput = 'python is good'\n",
    "if strInput.islower() == True:\n",
    "  print(\"String : <\",strInput ,\">\", \"Eoes not contains UPPER case letters.\")\n",
    "else:\n",
    "  print(\"String : <\",strInput ,\">\", \"contains UPPER case letters.\")\n",
    "  \n",
    "strInput = 'Python is good'\n",
    "if strInput.islower() == True:\n",
    "  print(\"String : <\",strInput ,\">\", \"Does not contains UPPER case letters.\")\n",
    "else:\n",
    "  print(\"String : <\",strInput ,\">\", \"contains UPPER case letters.\")"
   ]
  },
  {
   "cell_type": "markdown",
   "metadata": {},
   "source": [
    "# Python String : isupper()"
   ]
  },
  {
   "cell_type": "markdown",
   "metadata": {},
   "source": [
    "The string isupper() method returns whether or not all characters in a string are uppercased or not.\n",
    "\n",
    "The syntax of isupper() method is: string.isupper()\n",
    "\n",
    "The isupper() method doesn't take any parameters.\n",
    "\n",
    "Return value from String isupper() \n",
    "\n",
    "The isupper() method returns:\n",
    "True if all characters in a string are uppercase characters\n",
    "False if any characters in a string are lowercase characters"
   ]
  },
  {
   "cell_type": "code",
   "execution_count": 14,
   "metadata": {},
   "outputs": [
    {
     "name": "stdout",
     "output_type": "stream",
     "text": [
      "String : < PYTHON IS GOOD > contains UPPER case only. Hence it returns True\n",
      "String : < PYTHON I$ G00dD!! > contains SPECIAL and NUMERIC. Hence it returns False\n",
      "String : < python is Good > contains LOWER case. Hence it returns False\n",
      "String : < PYTHON IS GOOD > Does not contains LOWER case letters.\n",
      "String : < Python is good > contains LOWER case letters.\n"
     ]
    }
   ],
   "source": [
    "strInput = \"PYTHON IS GOOD\"\n",
    "print(\"String : <\",strInput ,\">\", \"contains UPPER case only. Hence it returns\" , strInput.isupper())\n",
    "\n",
    "strInput = 'PYTHON I$ G00dD!!'\n",
    "print(\"String : <\",strInput ,\">\", \"contains SPECIAL and NUMERIC. Hence it returns\" , strInput.isupper())\n",
    "\n",
    "strInput = 'python is Good'\n",
    "print(\"String : <\",strInput ,\">\", \"contains LOWER case. Hence it returns\" , strInput.isupper())\n",
    "\n",
    "strInput = 'PYTHON IS GOOD'\n",
    "if strInput.isupper() == True:\n",
    "  print(\"String : <\",strInput ,\">\", \"Does not contains LOWER case letters.\")\n",
    "else:\n",
    "  print(\"String : <\",strInput ,\">\", \"contains LOWER case letters.\")\n",
    "  \n",
    "strInput = 'Python is good'\n",
    "if strInput.islower() == True:\n",
    "  print(\"String : <\",strInput ,\">\", \"Does not contains LOWER case letters.\")\n",
    "else:\n",
    "  print(\"String : <\",strInput ,\">\", \"contains LOWER case letters.\")"
   ]
  },
  {
   "cell_type": "code",
   "execution_count": null,
   "metadata": {},
   "outputs": [],
   "source": []
  }
 ],
 "metadata": {
  "kernelspec": {
   "display_name": "Python 3",
   "language": "python",
   "name": "python3"
  },
  "language_info": {
   "codemirror_mode": {
    "name": "ipython",
    "version": 3
   },
   "file_extension": ".py",
   "mimetype": "text/x-python",
   "name": "python",
   "nbconvert_exporter": "python",
   "pygments_lexer": "ipython3",
   "version": "3.7.6"
  }
 },
 "nbformat": 4,
 "nbformat_minor": 4
}
