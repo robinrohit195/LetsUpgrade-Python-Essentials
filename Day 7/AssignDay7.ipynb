{
  "nbformat": 4,
  "nbformat_minor": 0,
  "metadata": {
    "colab": {
      "name": "AssignDay7.ipynb",
      "provenance": [],
      "collapsed_sections": []
    },
    "kernelspec": {
      "name": "python3",
      "display_name": "Python 3"
    }
  },
  "cells": [
    {
      "cell_type": "code",
      "metadata": {
        "id": "7XpobEGFyFCQ",
        "colab_type": "code",
        "colab": {
          "base_uri": "https://localhost:8080/",
          "height": 187
        },
        "outputId": "be2cfa3e-78a6-42c7-cb70-57aa579fc27c"
      },
      "source": [
        "\"\"\"\n",
        "Question 1\n",
        "\n",
        "Use the dictionary,\n",
        "port1 = {21: \"FTP\", 22:\"SSH\", 23: \"telnet\", 80: \"http\"},\n",
        "and make a new dictionary in which keys become values and values become keys,\n",
        "as shown: Port2 = {“FTP\":21, \"SSH\":22, “telnet\":23,\"http\": 80}\n",
        "\n",
        "\n",
        "\"\"\"\n",
        "n = int(input(\"Enter the number of inputs\"))\n",
        "network_list = dict()\n",
        "for i in range(n): \n",
        "  data = input('Enter port & protocol separated by \":\" ')\n",
        "  temp = data.split(':')\n",
        "  network_list[int(temp[0])] = temp[1]\n",
        "# Displaying the dictionary\n",
        "for key, value in network_list.items():\n",
        "\tprint('Port: {}, Protocol: {}'.format(key, value))\n",
        "\n",
        "#port1 = {21: \"FTP\", 22:\"SSH\", 23: \"telnet\", 80: \"http\"}\n",
        "# Reversing the dictionary key, values pairs\n",
        "inv = {v:k  for k,v in network_list.items()}\n",
        "print(\"The reversed key : value pairs are \", inv)\n"
      ],
      "execution_count": 20,
      "outputs": [
        {
          "output_type": "stream",
          "text": [
            "Enter the number of inputs4\n",
            "Enter port & protocol separated by \":\" 21: \"FTP\"\n",
            "Enter port & protocol separated by \":\" 22:\"SSH\"\n",
            "Enter port & protocol separated by \":\" 23: \"telnet\"\n",
            "Enter port & protocol separated by \":\" 80: \"http\"\n",
            "Port: 21, Protocol:  \"FTP\"\n",
            "Port: 22, Protocol: \"SSH\"\n",
            "Port: 23, Protocol:  \"telnet\"\n",
            "Port: 80, Protocol:  \"http\"\n",
            "The reversed key : value pairs are  {' \"FTP\"': 21, '\"SSH\"': 22, ' \"telnet\"': 23, ' \"http\"': 80}\n"
          ],
          "name": "stdout"
        }
      ]
    },
    {
      "cell_type": "code",
      "metadata": {
        "id": "DcklTo8-DPKa",
        "colab_type": "code",
        "colab": {
          "base_uri": "https://localhost:8080/",
          "height": 68
        },
        "outputId": "1397a661-cf7f-4738-b7cc-020a10f56a52"
      },
      "source": [
        "\"\"\"\n",
        "Question 2 :\n",
        "Take a list of tuple as shown below.\n",
        "[(1,2), (3,4), (5,6),(4,5)]\n",
        "Make a new list which contains the sum of the number of tuples.\n",
        "For example\n",
        "Input\n",
        "[(1,2), (3,4), (5,6)]\n",
        "Output\n",
        "[3, 7, 11]\n",
        "\n",
        "\n",
        "Python list method list() takes sequence types and converts them to lists. \n",
        "This is used to convert a given tuple into list.\n",
        "\n",
        "Note − Tuple are very similar to lists with only difference that element values of a tuple \n",
        "can not be changed and tuple elements are put between parentheses instead of square bracket.\n",
        "\n",
        "Python map() function\n",
        "map() function returns a map object(which is an iterator) of the results after applying the \n",
        "given function to each item of a given iterable (list, tuple etc.)\n",
        "\n",
        "Syntax :\n",
        "map(fun, iter)\n",
        "\n",
        "Parameters :\n",
        "fun : It is a function to which map passes each element of given iterable.\n",
        "iter : It is a iterable which is to be mapped.\n",
        "\n",
        "NOTE : You can pass one or more iterable to the map() function\n",
        "1,2,3,4,5,6,4,5\n",
        "\"\"\"\n",
        "tuple_values = input(\"Provide a sequence of numbers separated by commas: \")\n",
        "# converting tuple string to integer tuple\n",
        "tuple_number = tuple(int(el) for el in tuple_values.split(','))\n",
        "test_tup=[]\n",
        "# converting the tuples into two element sets\n",
        "for i in range(0,len(tuple_number),2):\n",
        "  test_tup.append((tuple_number[i:i+2]))\n",
        "print(\"The tuple sets are : \", test_tup)\n",
        "# finding the sum of element set\n",
        "res = list(map(sum, list(test_tup)))\n",
        "print(\"The sum of the elements in each set is \", res)"
      ],
      "execution_count": 21,
      "outputs": [
        {
          "output_type": "stream",
          "text": [
            "Provide a sequence of numbers separated by commas: 1,2,3,4,5,6,4,5\n",
            "The tuple sets are :  [(1, 2), (3, 4), (5, 6), (4, 5)]\n",
            "The sum of the elements in each set is  [3, 7, 11, 9]\n"
          ],
          "name": "stdout"
        }
      ]
    },
    {
      "cell_type": "code",
      "metadata": {
        "id": "QAYot-mn2x-B",
        "colab_type": "code",
        "colab": {
          "base_uri": "https://localhost:8080/",
          "height": 51
        },
        "outputId": "c631324f-af8e-4b89-f4b2-384a37b668c5"
      },
      "source": [
        "\"\"\"\n",
        "Question 3:\n",
        "Take a list as shown below\n",
        "[(1,2,3), [1,2], ['a','hit','less']]\n",
        "The List contains tuple and lists. Make the elements of inner lists and tuples to outer list\n",
        "\n",
        "\n",
        "\"\"\"\n",
        "\n",
        "\n",
        "newlist= [(1,2,3), [1,2], ['a','hit','less']]\n",
        "print(\"Elements in Inner lists and tuples with outer lists\", newlist)\n",
        "final=[]\n",
        "for n in newlist:\n",
        "    if type(n) == list:\n",
        "        for i in n:\n",
        "            final.append(i)\n",
        "    elif type(n) == tuple:\n",
        "        for i in n:\n",
        "            final.append(i)\n",
        "    else:\n",
        "        final.append(n)\n",
        "\n",
        "print(\"Inner List and Tuple in Outer List :\", final)\n"
      ],
      "execution_count": 28,
      "outputs": [
        {
          "output_type": "stream",
          "text": [
            "Elements in Inner lists and tuples with outer lists [(1, 2, 3), [1, 2], ['a', 'hit', 'less']]\n",
            "Inner List and Tuple in Outer List : [1, 2, 3, 1, 2, 'a', 'hit', 'less']\n"
          ],
          "name": "stdout"
        }
      ]
    }
  ]
}